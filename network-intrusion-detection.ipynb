{
 "cells": [
  {
   "cell_type": "markdown",
   "id": "31cbd03f",
   "metadata": {
    "papermill": {
     "duration": 0.023305,
     "end_time": "2021-07-10T12:28:07.727516",
     "exception": false,
     "start_time": "2021-07-10T12:28:07.704211",
     "status": "completed"
    },
    "tags": []
   },
   "source": [
    "# **Import revelant modules**"
   ]
  },
  {
   "cell_type": "code",
   "execution_count": 1,
   "id": "78fe6cee",
   "metadata": {
    "_cell_guid": "b1076dfc-b9ad-4769-8c92-a6c4dae69d19",
    "_uuid": "8f2839f25d086af736a60e9eeb907d3b93b6e0e5",
    "execution": {
     "iopub.execute_input": "2021-07-10T12:28:07.778711Z",
     "iopub.status.busy": "2021-07-10T12:28:07.776889Z",
     "iopub.status.idle": "2021-07-10T12:28:09.426800Z",
     "shell.execute_reply": "2021-07-10T12:28:09.425989Z",
     "shell.execute_reply.started": "2021-07-10T09:19:34.778475Z"
    },
    "papermill": {
     "duration": 1.676889,
     "end_time": "2021-07-10T12:28:09.426965",
     "exception": false,
     "start_time": "2021-07-10T12:28:07.750076",
     "status": "completed"
    },
    "tags": []
   },
   "outputs": [],
   "source": [
    "%matplotlib inline\n",
    "import matplotlib\n",
    "import matplotlib.pyplot as plt\n",
    "import pandas as pd\n",
    "import numpy as np\n",
    "import seaborn as sns\n",
    "import sklearn\n",
    "import imblearn\n",
    "import warnings\n",
    "warnings.filterwarnings('ignore')\n",
    "\n",
    "pd.set_option('display.max_columns', None)\n",
    "np.set_printoptions(precision=3)\n",
    "sns.set(style=\"darkgrid\")\n",
    "plt.rcParams['axes.labelsize'] = 14\n",
    "plt.rcParams['xtick.labelsize'] = 12\n",
    "plt.rcParams['ytick.labelsize'] = 12"
   ]
  },
  {
   "cell_type": "markdown",
   "id": "84b3936e",
   "metadata": {
    "papermill": {
     "duration": 0.022359,
     "end_time": "2021-07-10T12:28:09.472350",
     "exception": false,
     "start_time": "2021-07-10T12:28:09.449991",
     "status": "completed"
    },
    "tags": []
   },
   "source": [
    "# **Load Data**"
   ]
  },
  {
   "cell_type": "code",
   "execution_count": 2,
   "id": "f708ca7b",
   "metadata": {
    "execution": {
     "iopub.execute_input": "2021-07-10T12:28:09.522561Z",
     "iopub.status.busy": "2021-07-10T12:28:09.521902Z",
     "iopub.status.idle": "2021-07-10T12:28:09.782847Z",
     "shell.execute_reply": "2021-07-10T12:28:09.781973Z",
     "shell.execute_reply.started": "2021-07-10T09:19:35.333290Z"
    },
    "papermill": {
     "duration": 0.288121,
     "end_time": "2021-07-10T12:28:09.783021",
     "exception": false,
     "start_time": "2021-07-10T12:28:09.494900",
     "status": "completed"
    },
    "tags": []
   },
   "outputs": [],
   "source": [
    "train = pd.read_csv(\"../input/nids-data/Train_data.csv\")\n",
    "test = pd.read_csv(\"../input/nids-data/Test_data.csv\")"
   ]
  },
  {
   "cell_type": "code",
   "execution_count": 3,
   "id": "30fbdbf6",
   "metadata": {
    "execution": {
     "iopub.execute_input": "2021-07-10T12:28:09.836113Z",
     "iopub.status.busy": "2021-07-10T12:28:09.835392Z",
     "iopub.status.idle": "2021-07-10T12:28:09.864359Z",
     "shell.execute_reply": "2021-07-10T12:28:09.864837Z",
     "shell.execute_reply.started": "2021-07-10T09:19:35.530855Z"
    },
    "papermill": {
     "duration": 0.058072,
     "end_time": "2021-07-10T12:28:09.865013",
     "exception": false,
     "start_time": "2021-07-10T12:28:09.806941",
     "status": "completed"
    },
    "tags": []
   },
   "outputs": [
    {
     "name": "stdout",
     "output_type": "stream",
     "text": [
      "   duration protocol_type   service flag  src_bytes  dst_bytes  land  \\\n",
      "0         0           tcp  ftp_data   SF        491          0     0   \n",
      "1         0           udp     other   SF        146          0     0   \n",
      "2         0           tcp   private   S0          0          0     0   \n",
      "3         0           tcp      http   SF        232       8153     0   \n",
      "\n",
      "   wrong_fragment  urgent  hot  num_failed_logins  logged_in  num_compromised  \\\n",
      "0               0       0    0                  0          0                0   \n",
      "1               0       0    0                  0          0                0   \n",
      "2               0       0    0                  0          0                0   \n",
      "3               0       0    0                  0          1                0   \n",
      "\n",
      "   root_shell  su_attempted  num_root  num_file_creations  num_shells  \\\n",
      "0           0             0         0                   0           0   \n",
      "1           0             0         0                   0           0   \n",
      "2           0             0         0                   0           0   \n",
      "3           0             0         0                   0           0   \n",
      "\n",
      "   num_access_files  num_outbound_cmds  is_host_login  is_guest_login  count  \\\n",
      "0                 0                  0              0               0      2   \n",
      "1                 0                  0              0               0     13   \n",
      "2                 0                  0              0               0    123   \n",
      "3                 0                  0              0               0      5   \n",
      "\n",
      "   srv_count  serror_rate  srv_serror_rate  rerror_rate  srv_rerror_rate  \\\n",
      "0          2          0.0              0.0          0.0              0.0   \n",
      "1          1          0.0              0.0          0.0              0.0   \n",
      "2          6          1.0              1.0          0.0              0.0   \n",
      "3          5          0.2              0.2          0.0              0.0   \n",
      "\n",
      "   same_srv_rate  diff_srv_rate  srv_diff_host_rate  dst_host_count  \\\n",
      "0           1.00           0.00                 0.0             150   \n",
      "1           0.08           0.15                 0.0             255   \n",
      "2           0.05           0.07                 0.0             255   \n",
      "3           1.00           0.00                 0.0              30   \n",
      "\n",
      "   dst_host_srv_count  dst_host_same_srv_rate  dst_host_diff_srv_rate  \\\n",
      "0                  25                    0.17                    0.03   \n",
      "1                   1                    0.00                    0.60   \n",
      "2                  26                    0.10                    0.05   \n",
      "3                 255                    1.00                    0.00   \n",
      "\n",
      "   dst_host_same_src_port_rate  dst_host_srv_diff_host_rate  \\\n",
      "0                         0.17                         0.00   \n",
      "1                         0.88                         0.00   \n",
      "2                         0.00                         0.00   \n",
      "3                         0.03                         0.04   \n",
      "\n",
      "   dst_host_serror_rate  dst_host_srv_serror_rate  dst_host_rerror_rate  \\\n",
      "0                  0.00                      0.00                  0.05   \n",
      "1                  0.00                      0.00                  0.00   \n",
      "2                  1.00                      1.00                  0.00   \n",
      "3                  0.03                      0.01                  0.00   \n",
      "\n",
      "   dst_host_srv_rerror_rate    class  \n",
      "0                      0.00   normal  \n",
      "1                      0.00   normal  \n",
      "2                      0.00  anomaly  \n",
      "3                      0.01   normal  \n",
      "Training data has 25192 rows & 42 columns\n"
     ]
    }
   ],
   "source": [
    "print(train.head(4))\n",
    "\n",
    "print(\"Training data has {} rows & {} columns\".format(train.shape[0],train.shape[1]))"
   ]
  },
  {
   "cell_type": "code",
   "execution_count": 4,
   "id": "3433efbc",
   "metadata": {
    "execution": {
     "iopub.execute_input": "2021-07-10T12:28:09.932598Z",
     "iopub.status.busy": "2021-07-10T12:28:09.924706Z",
     "iopub.status.idle": "2021-07-10T12:28:09.936408Z",
     "shell.execute_reply": "2021-07-10T12:28:09.936955Z",
     "shell.execute_reply.started": "2021-07-10T09:19:35.554959Z"
    },
    "papermill": {
     "duration": 0.0483,
     "end_time": "2021-07-10T12:28:09.937123",
     "exception": false,
     "start_time": "2021-07-10T12:28:09.888823",
     "status": "completed"
    },
    "tags": []
   },
   "outputs": [
    {
     "name": "stdout",
     "output_type": "stream",
     "text": [
      "   duration protocol_type   service flag  src_bytes  dst_bytes  land  \\\n",
      "0         0           tcp   private  REJ          0          0     0   \n",
      "1         0           tcp   private  REJ          0          0     0   \n",
      "2         2           tcp  ftp_data   SF      12983          0     0   \n",
      "3         0          icmp     eco_i   SF         20          0     0   \n",
      "\n",
      "   wrong_fragment  urgent  hot  num_failed_logins  logged_in  num_compromised  \\\n",
      "0               0       0    0                  0          0                0   \n",
      "1               0       0    0                  0          0                0   \n",
      "2               0       0    0                  0          0                0   \n",
      "3               0       0    0                  0          0                0   \n",
      "\n",
      "   root_shell  su_attempted  num_root  num_file_creations  num_shells  \\\n",
      "0           0             0         0                   0           0   \n",
      "1           0             0         0                   0           0   \n",
      "2           0             0         0                   0           0   \n",
      "3           0             0         0                   0           0   \n",
      "\n",
      "   num_access_files  num_outbound_cmds  is_host_login  is_guest_login  count  \\\n",
      "0                 0                  0              0               0    229   \n",
      "1                 0                  0              0               0    136   \n",
      "2                 0                  0              0               0      1   \n",
      "3                 0                  0              0               0      1   \n",
      "\n",
      "   srv_count  serror_rate  srv_serror_rate  rerror_rate  srv_rerror_rate  \\\n",
      "0         10          0.0              0.0          1.0              1.0   \n",
      "1          1          0.0              0.0          1.0              1.0   \n",
      "2          1          0.0              0.0          0.0              0.0   \n",
      "3         65          0.0              0.0          0.0              0.0   \n",
      "\n",
      "   same_srv_rate  diff_srv_rate  srv_diff_host_rate  dst_host_count  \\\n",
      "0           0.04           0.06                 0.0             255   \n",
      "1           0.01           0.06                 0.0             255   \n",
      "2           1.00           0.00                 0.0             134   \n",
      "3           1.00           0.00                 1.0               3   \n",
      "\n",
      "   dst_host_srv_count  dst_host_same_srv_rate  dst_host_diff_srv_rate  \\\n",
      "0                  10                    0.04                    0.06   \n",
      "1                   1                    0.00                    0.06   \n",
      "2                  86                    0.61                    0.04   \n",
      "3                  57                    1.00                    0.00   \n",
      "\n",
      "   dst_host_same_src_port_rate  dst_host_srv_diff_host_rate  \\\n",
      "0                         0.00                         0.00   \n",
      "1                         0.00                         0.00   \n",
      "2                         0.61                         0.02   \n",
      "3                         1.00                         0.28   \n",
      "\n",
      "   dst_host_serror_rate  dst_host_srv_serror_rate  dst_host_rerror_rate  \\\n",
      "0                   0.0                       0.0                   1.0   \n",
      "1                   0.0                       0.0                   1.0   \n",
      "2                   0.0                       0.0                   0.0   \n",
      "3                   0.0                       0.0                   0.0   \n",
      "\n",
      "   dst_host_srv_rerror_rate  \n",
      "0                       1.0  \n",
      "1                       1.0  \n",
      "2                       0.0  \n",
      "3                       0.0  \n",
      "Testing data has 22544 rows & 41 columns\n"
     ]
    }
   ],
   "source": [
    "print(test.head(4))\n",
    "\n",
    "print(\"Testing data has {} rows & {} columns\".format(test.shape[0],test.shape[1]))"
   ]
  },
  {
   "cell_type": "markdown",
   "id": "be5f6d2a",
   "metadata": {
    "papermill": {
     "duration": 0.023325,
     "end_time": "2021-07-10T12:28:09.984946",
     "exception": false,
     "start_time": "2021-07-10T12:28:09.961621",
     "status": "completed"
    },
    "tags": []
   },
   "source": [
    "# **Exploratory Data Analysis**"
   ]
  },
  {
   "cell_type": "code",
   "execution_count": 5,
   "id": "835f7dc4",
   "metadata": {
    "execution": {
     "iopub.execute_input": "2021-07-10T12:28:10.044789Z",
     "iopub.status.busy": "2021-07-10T12:28:10.036373Z",
     "iopub.status.idle": "2021-07-10T12:28:10.204364Z",
     "shell.execute_reply": "2021-07-10T12:28:10.204901Z",
     "shell.execute_reply.started": "2021-07-10T09:19:35.579556Z"
    },
    "papermill": {
     "duration": 0.196612,
     "end_time": "2021-07-10T12:28:10.205068",
     "exception": false,
     "start_time": "2021-07-10T12:28:10.008456",
     "status": "completed"
    },
    "tags": []
   },
   "outputs": [
    {
     "data": {
      "text/html": [
       "<div>\n",
       "<style scoped>\n",
       "    .dataframe tbody tr th:only-of-type {\n",
       "        vertical-align: middle;\n",
       "    }\n",
       "\n",
       "    .dataframe tbody tr th {\n",
       "        vertical-align: top;\n",
       "    }\n",
       "\n",
       "    .dataframe thead th {\n",
       "        text-align: right;\n",
       "    }\n",
       "</style>\n",
       "<table border=\"1\" class=\"dataframe\">\n",
       "  <thead>\n",
       "    <tr style=\"text-align: right;\">\n",
       "      <th></th>\n",
       "      <th>duration</th>\n",
       "      <th>src_bytes</th>\n",
       "      <th>dst_bytes</th>\n",
       "      <th>land</th>\n",
       "      <th>wrong_fragment</th>\n",
       "      <th>urgent</th>\n",
       "      <th>hot</th>\n",
       "      <th>num_failed_logins</th>\n",
       "      <th>logged_in</th>\n",
       "      <th>num_compromised</th>\n",
       "      <th>root_shell</th>\n",
       "      <th>su_attempted</th>\n",
       "      <th>num_root</th>\n",
       "      <th>num_file_creations</th>\n",
       "      <th>num_shells</th>\n",
       "      <th>num_access_files</th>\n",
       "      <th>num_outbound_cmds</th>\n",
       "      <th>is_host_login</th>\n",
       "      <th>is_guest_login</th>\n",
       "      <th>count</th>\n",
       "      <th>srv_count</th>\n",
       "      <th>serror_rate</th>\n",
       "      <th>srv_serror_rate</th>\n",
       "      <th>rerror_rate</th>\n",
       "      <th>srv_rerror_rate</th>\n",
       "      <th>same_srv_rate</th>\n",
       "      <th>diff_srv_rate</th>\n",
       "      <th>srv_diff_host_rate</th>\n",
       "      <th>dst_host_count</th>\n",
       "      <th>dst_host_srv_count</th>\n",
       "      <th>dst_host_same_srv_rate</th>\n",
       "      <th>dst_host_diff_srv_rate</th>\n",
       "      <th>dst_host_same_src_port_rate</th>\n",
       "      <th>dst_host_srv_diff_host_rate</th>\n",
       "      <th>dst_host_serror_rate</th>\n",
       "      <th>dst_host_srv_serror_rate</th>\n",
       "      <th>dst_host_rerror_rate</th>\n",
       "      <th>dst_host_srv_rerror_rate</th>\n",
       "    </tr>\n",
       "  </thead>\n",
       "  <tbody>\n",
       "    <tr>\n",
       "      <th>count</th>\n",
       "      <td>25192.000000</td>\n",
       "      <td>2.519200e+04</td>\n",
       "      <td>2.519200e+04</td>\n",
       "      <td>25192.000000</td>\n",
       "      <td>25192.000000</td>\n",
       "      <td>25192.00000</td>\n",
       "      <td>25192.000000</td>\n",
       "      <td>25192.000000</td>\n",
       "      <td>25192.000000</td>\n",
       "      <td>25192.000000</td>\n",
       "      <td>25192.000000</td>\n",
       "      <td>25192.000000</td>\n",
       "      <td>25192.000000</td>\n",
       "      <td>25192.000000</td>\n",
       "      <td>25192.000000</td>\n",
       "      <td>25192.000000</td>\n",
       "      <td>25192.0</td>\n",
       "      <td>25192.0</td>\n",
       "      <td>25192.000000</td>\n",
       "      <td>25192.000000</td>\n",
       "      <td>25192.000000</td>\n",
       "      <td>25192.000000</td>\n",
       "      <td>25192.000000</td>\n",
       "      <td>25192.000000</td>\n",
       "      <td>25192.000000</td>\n",
       "      <td>25192.000000</td>\n",
       "      <td>25192.000000</td>\n",
       "      <td>25192.000000</td>\n",
       "      <td>25192.000000</td>\n",
       "      <td>25192.000000</td>\n",
       "      <td>25192.000000</td>\n",
       "      <td>25192.000000</td>\n",
       "      <td>25192.000000</td>\n",
       "      <td>25192.000000</td>\n",
       "      <td>25192.000000</td>\n",
       "      <td>25192.000000</td>\n",
       "      <td>25192.000000</td>\n",
       "      <td>25192.000000</td>\n",
       "    </tr>\n",
       "    <tr>\n",
       "      <th>mean</th>\n",
       "      <td>305.054104</td>\n",
       "      <td>2.433063e+04</td>\n",
       "      <td>3.491847e+03</td>\n",
       "      <td>0.000079</td>\n",
       "      <td>0.023738</td>\n",
       "      <td>0.00004</td>\n",
       "      <td>0.198039</td>\n",
       "      <td>0.001191</td>\n",
       "      <td>0.394768</td>\n",
       "      <td>0.227850</td>\n",
       "      <td>0.001548</td>\n",
       "      <td>0.001350</td>\n",
       "      <td>0.249841</td>\n",
       "      <td>0.014727</td>\n",
       "      <td>0.000357</td>\n",
       "      <td>0.004327</td>\n",
       "      <td>0.0</td>\n",
       "      <td>0.0</td>\n",
       "      <td>0.009130</td>\n",
       "      <td>84.591180</td>\n",
       "      <td>27.698754</td>\n",
       "      <td>0.286338</td>\n",
       "      <td>0.283762</td>\n",
       "      <td>0.118630</td>\n",
       "      <td>0.120260</td>\n",
       "      <td>0.660559</td>\n",
       "      <td>0.062363</td>\n",
       "      <td>0.095931</td>\n",
       "      <td>182.532074</td>\n",
       "      <td>115.063036</td>\n",
       "      <td>0.519791</td>\n",
       "      <td>0.082539</td>\n",
       "      <td>0.147453</td>\n",
       "      <td>0.031844</td>\n",
       "      <td>0.285800</td>\n",
       "      <td>0.279846</td>\n",
       "      <td>0.117800</td>\n",
       "      <td>0.118769</td>\n",
       "    </tr>\n",
       "    <tr>\n",
       "      <th>std</th>\n",
       "      <td>2686.555640</td>\n",
       "      <td>2.410805e+06</td>\n",
       "      <td>8.883072e+04</td>\n",
       "      <td>0.008910</td>\n",
       "      <td>0.260221</td>\n",
       "      <td>0.00630</td>\n",
       "      <td>2.154202</td>\n",
       "      <td>0.045418</td>\n",
       "      <td>0.488811</td>\n",
       "      <td>10.417352</td>\n",
       "      <td>0.039316</td>\n",
       "      <td>0.048785</td>\n",
       "      <td>11.500842</td>\n",
       "      <td>0.529602</td>\n",
       "      <td>0.018898</td>\n",
       "      <td>0.098524</td>\n",
       "      <td>0.0</td>\n",
       "      <td>0.0</td>\n",
       "      <td>0.095115</td>\n",
       "      <td>114.673451</td>\n",
       "      <td>72.468242</td>\n",
       "      <td>0.447312</td>\n",
       "      <td>0.447599</td>\n",
       "      <td>0.318745</td>\n",
       "      <td>0.322335</td>\n",
       "      <td>0.439637</td>\n",
       "      <td>0.178550</td>\n",
       "      <td>0.256583</td>\n",
       "      <td>98.993895</td>\n",
       "      <td>110.646850</td>\n",
       "      <td>0.448944</td>\n",
       "      <td>0.187191</td>\n",
       "      <td>0.308367</td>\n",
       "      <td>0.110575</td>\n",
       "      <td>0.445316</td>\n",
       "      <td>0.446075</td>\n",
       "      <td>0.305869</td>\n",
       "      <td>0.317333</td>\n",
       "    </tr>\n",
       "    <tr>\n",
       "      <th>min</th>\n",
       "      <td>0.000000</td>\n",
       "      <td>0.000000e+00</td>\n",
       "      <td>0.000000e+00</td>\n",
       "      <td>0.000000</td>\n",
       "      <td>0.000000</td>\n",
       "      <td>0.00000</td>\n",
       "      <td>0.000000</td>\n",
       "      <td>0.000000</td>\n",
       "      <td>0.000000</td>\n",
       "      <td>0.000000</td>\n",
       "      <td>0.000000</td>\n",
       "      <td>0.000000</td>\n",
       "      <td>0.000000</td>\n",
       "      <td>0.000000</td>\n",
       "      <td>0.000000</td>\n",
       "      <td>0.000000</td>\n",
       "      <td>0.0</td>\n",
       "      <td>0.0</td>\n",
       "      <td>0.000000</td>\n",
       "      <td>1.000000</td>\n",
       "      <td>1.000000</td>\n",
       "      <td>0.000000</td>\n",
       "      <td>0.000000</td>\n",
       "      <td>0.000000</td>\n",
       "      <td>0.000000</td>\n",
       "      <td>0.000000</td>\n",
       "      <td>0.000000</td>\n",
       "      <td>0.000000</td>\n",
       "      <td>0.000000</td>\n",
       "      <td>0.000000</td>\n",
       "      <td>0.000000</td>\n",
       "      <td>0.000000</td>\n",
       "      <td>0.000000</td>\n",
       "      <td>0.000000</td>\n",
       "      <td>0.000000</td>\n",
       "      <td>0.000000</td>\n",
       "      <td>0.000000</td>\n",
       "      <td>0.000000</td>\n",
       "    </tr>\n",
       "    <tr>\n",
       "      <th>25%</th>\n",
       "      <td>0.000000</td>\n",
       "      <td>0.000000e+00</td>\n",
       "      <td>0.000000e+00</td>\n",
       "      <td>0.000000</td>\n",
       "      <td>0.000000</td>\n",
       "      <td>0.00000</td>\n",
       "      <td>0.000000</td>\n",
       "      <td>0.000000</td>\n",
       "      <td>0.000000</td>\n",
       "      <td>0.000000</td>\n",
       "      <td>0.000000</td>\n",
       "      <td>0.000000</td>\n",
       "      <td>0.000000</td>\n",
       "      <td>0.000000</td>\n",
       "      <td>0.000000</td>\n",
       "      <td>0.000000</td>\n",
       "      <td>0.0</td>\n",
       "      <td>0.0</td>\n",
       "      <td>0.000000</td>\n",
       "      <td>2.000000</td>\n",
       "      <td>2.000000</td>\n",
       "      <td>0.000000</td>\n",
       "      <td>0.000000</td>\n",
       "      <td>0.000000</td>\n",
       "      <td>0.000000</td>\n",
       "      <td>0.090000</td>\n",
       "      <td>0.000000</td>\n",
       "      <td>0.000000</td>\n",
       "      <td>84.000000</td>\n",
       "      <td>10.000000</td>\n",
       "      <td>0.050000</td>\n",
       "      <td>0.000000</td>\n",
       "      <td>0.000000</td>\n",
       "      <td>0.000000</td>\n",
       "      <td>0.000000</td>\n",
       "      <td>0.000000</td>\n",
       "      <td>0.000000</td>\n",
       "      <td>0.000000</td>\n",
       "    </tr>\n",
       "    <tr>\n",
       "      <th>50%</th>\n",
       "      <td>0.000000</td>\n",
       "      <td>4.400000e+01</td>\n",
       "      <td>0.000000e+00</td>\n",
       "      <td>0.000000</td>\n",
       "      <td>0.000000</td>\n",
       "      <td>0.00000</td>\n",
       "      <td>0.000000</td>\n",
       "      <td>0.000000</td>\n",
       "      <td>0.000000</td>\n",
       "      <td>0.000000</td>\n",
       "      <td>0.000000</td>\n",
       "      <td>0.000000</td>\n",
       "      <td>0.000000</td>\n",
       "      <td>0.000000</td>\n",
       "      <td>0.000000</td>\n",
       "      <td>0.000000</td>\n",
       "      <td>0.0</td>\n",
       "      <td>0.0</td>\n",
       "      <td>0.000000</td>\n",
       "      <td>14.000000</td>\n",
       "      <td>8.000000</td>\n",
       "      <td>0.000000</td>\n",
       "      <td>0.000000</td>\n",
       "      <td>0.000000</td>\n",
       "      <td>0.000000</td>\n",
       "      <td>1.000000</td>\n",
       "      <td>0.000000</td>\n",
       "      <td>0.000000</td>\n",
       "      <td>255.000000</td>\n",
       "      <td>61.000000</td>\n",
       "      <td>0.510000</td>\n",
       "      <td>0.030000</td>\n",
       "      <td>0.000000</td>\n",
       "      <td>0.000000</td>\n",
       "      <td>0.000000</td>\n",
       "      <td>0.000000</td>\n",
       "      <td>0.000000</td>\n",
       "      <td>0.000000</td>\n",
       "    </tr>\n",
       "    <tr>\n",
       "      <th>75%</th>\n",
       "      <td>0.000000</td>\n",
       "      <td>2.790000e+02</td>\n",
       "      <td>5.302500e+02</td>\n",
       "      <td>0.000000</td>\n",
       "      <td>0.000000</td>\n",
       "      <td>0.00000</td>\n",
       "      <td>0.000000</td>\n",
       "      <td>0.000000</td>\n",
       "      <td>1.000000</td>\n",
       "      <td>0.000000</td>\n",
       "      <td>0.000000</td>\n",
       "      <td>0.000000</td>\n",
       "      <td>0.000000</td>\n",
       "      <td>0.000000</td>\n",
       "      <td>0.000000</td>\n",
       "      <td>0.000000</td>\n",
       "      <td>0.0</td>\n",
       "      <td>0.0</td>\n",
       "      <td>0.000000</td>\n",
       "      <td>144.000000</td>\n",
       "      <td>18.000000</td>\n",
       "      <td>1.000000</td>\n",
       "      <td>1.000000</td>\n",
       "      <td>0.000000</td>\n",
       "      <td>0.000000</td>\n",
       "      <td>1.000000</td>\n",
       "      <td>0.060000</td>\n",
       "      <td>0.000000</td>\n",
       "      <td>255.000000</td>\n",
       "      <td>255.000000</td>\n",
       "      <td>1.000000</td>\n",
       "      <td>0.070000</td>\n",
       "      <td>0.060000</td>\n",
       "      <td>0.020000</td>\n",
       "      <td>1.000000</td>\n",
       "      <td>1.000000</td>\n",
       "      <td>0.000000</td>\n",
       "      <td>0.000000</td>\n",
       "    </tr>\n",
       "    <tr>\n",
       "      <th>max</th>\n",
       "      <td>42862.000000</td>\n",
       "      <td>3.817091e+08</td>\n",
       "      <td>5.151385e+06</td>\n",
       "      <td>1.000000</td>\n",
       "      <td>3.000000</td>\n",
       "      <td>1.00000</td>\n",
       "      <td>77.000000</td>\n",
       "      <td>4.000000</td>\n",
       "      <td>1.000000</td>\n",
       "      <td>884.000000</td>\n",
       "      <td>1.000000</td>\n",
       "      <td>2.000000</td>\n",
       "      <td>975.000000</td>\n",
       "      <td>40.000000</td>\n",
       "      <td>1.000000</td>\n",
       "      <td>8.000000</td>\n",
       "      <td>0.0</td>\n",
       "      <td>0.0</td>\n",
       "      <td>1.000000</td>\n",
       "      <td>511.000000</td>\n",
       "      <td>511.000000</td>\n",
       "      <td>1.000000</td>\n",
       "      <td>1.000000</td>\n",
       "      <td>1.000000</td>\n",
       "      <td>1.000000</td>\n",
       "      <td>1.000000</td>\n",
       "      <td>1.000000</td>\n",
       "      <td>1.000000</td>\n",
       "      <td>255.000000</td>\n",
       "      <td>255.000000</td>\n",
       "      <td>1.000000</td>\n",
       "      <td>1.000000</td>\n",
       "      <td>1.000000</td>\n",
       "      <td>1.000000</td>\n",
       "      <td>1.000000</td>\n",
       "      <td>1.000000</td>\n",
       "      <td>1.000000</td>\n",
       "      <td>1.000000</td>\n",
       "    </tr>\n",
       "  </tbody>\n",
       "</table>\n",
       "</div>"
      ],
      "text/plain": [
       "           duration     src_bytes     dst_bytes          land  wrong_fragment  \\\n",
       "count  25192.000000  2.519200e+04  2.519200e+04  25192.000000    25192.000000   \n",
       "mean     305.054104  2.433063e+04  3.491847e+03      0.000079        0.023738   \n",
       "std     2686.555640  2.410805e+06  8.883072e+04      0.008910        0.260221   \n",
       "min        0.000000  0.000000e+00  0.000000e+00      0.000000        0.000000   \n",
       "25%        0.000000  0.000000e+00  0.000000e+00      0.000000        0.000000   \n",
       "50%        0.000000  4.400000e+01  0.000000e+00      0.000000        0.000000   \n",
       "75%        0.000000  2.790000e+02  5.302500e+02      0.000000        0.000000   \n",
       "max    42862.000000  3.817091e+08  5.151385e+06      1.000000        3.000000   \n",
       "\n",
       "            urgent           hot  num_failed_logins     logged_in  \\\n",
       "count  25192.00000  25192.000000       25192.000000  25192.000000   \n",
       "mean       0.00004      0.198039           0.001191      0.394768   \n",
       "std        0.00630      2.154202           0.045418      0.488811   \n",
       "min        0.00000      0.000000           0.000000      0.000000   \n",
       "25%        0.00000      0.000000           0.000000      0.000000   \n",
       "50%        0.00000      0.000000           0.000000      0.000000   \n",
       "75%        0.00000      0.000000           0.000000      1.000000   \n",
       "max        1.00000     77.000000           4.000000      1.000000   \n",
       "\n",
       "       num_compromised    root_shell  su_attempted      num_root  \\\n",
       "count     25192.000000  25192.000000  25192.000000  25192.000000   \n",
       "mean          0.227850      0.001548      0.001350      0.249841   \n",
       "std          10.417352      0.039316      0.048785     11.500842   \n",
       "min           0.000000      0.000000      0.000000      0.000000   \n",
       "25%           0.000000      0.000000      0.000000      0.000000   \n",
       "50%           0.000000      0.000000      0.000000      0.000000   \n",
       "75%           0.000000      0.000000      0.000000      0.000000   \n",
       "max         884.000000      1.000000      2.000000    975.000000   \n",
       "\n",
       "       num_file_creations    num_shells  num_access_files  num_outbound_cmds  \\\n",
       "count        25192.000000  25192.000000      25192.000000            25192.0   \n",
       "mean             0.014727      0.000357          0.004327                0.0   \n",
       "std              0.529602      0.018898          0.098524                0.0   \n",
       "min              0.000000      0.000000          0.000000                0.0   \n",
       "25%              0.000000      0.000000          0.000000                0.0   \n",
       "50%              0.000000      0.000000          0.000000                0.0   \n",
       "75%              0.000000      0.000000          0.000000                0.0   \n",
       "max             40.000000      1.000000          8.000000                0.0   \n",
       "\n",
       "       is_host_login  is_guest_login         count     srv_count  \\\n",
       "count        25192.0    25192.000000  25192.000000  25192.000000   \n",
       "mean             0.0        0.009130     84.591180     27.698754   \n",
       "std              0.0        0.095115    114.673451     72.468242   \n",
       "min              0.0        0.000000      1.000000      1.000000   \n",
       "25%              0.0        0.000000      2.000000      2.000000   \n",
       "50%              0.0        0.000000     14.000000      8.000000   \n",
       "75%              0.0        0.000000    144.000000     18.000000   \n",
       "max              0.0        1.000000    511.000000    511.000000   \n",
       "\n",
       "        serror_rate  srv_serror_rate   rerror_rate  srv_rerror_rate  \\\n",
       "count  25192.000000     25192.000000  25192.000000     25192.000000   \n",
       "mean       0.286338         0.283762      0.118630         0.120260   \n",
       "std        0.447312         0.447599      0.318745         0.322335   \n",
       "min        0.000000         0.000000      0.000000         0.000000   \n",
       "25%        0.000000         0.000000      0.000000         0.000000   \n",
       "50%        0.000000         0.000000      0.000000         0.000000   \n",
       "75%        1.000000         1.000000      0.000000         0.000000   \n",
       "max        1.000000         1.000000      1.000000         1.000000   \n",
       "\n",
       "       same_srv_rate  diff_srv_rate  srv_diff_host_rate  dst_host_count  \\\n",
       "count   25192.000000   25192.000000        25192.000000    25192.000000   \n",
       "mean        0.660559       0.062363            0.095931      182.532074   \n",
       "std         0.439637       0.178550            0.256583       98.993895   \n",
       "min         0.000000       0.000000            0.000000        0.000000   \n",
       "25%         0.090000       0.000000            0.000000       84.000000   \n",
       "50%         1.000000       0.000000            0.000000      255.000000   \n",
       "75%         1.000000       0.060000            0.000000      255.000000   \n",
       "max         1.000000       1.000000            1.000000      255.000000   \n",
       "\n",
       "       dst_host_srv_count  dst_host_same_srv_rate  dst_host_diff_srv_rate  \\\n",
       "count        25192.000000            25192.000000            25192.000000   \n",
       "mean           115.063036                0.519791                0.082539   \n",
       "std            110.646850                0.448944                0.187191   \n",
       "min              0.000000                0.000000                0.000000   \n",
       "25%             10.000000                0.050000                0.000000   \n",
       "50%             61.000000                0.510000                0.030000   \n",
       "75%            255.000000                1.000000                0.070000   \n",
       "max            255.000000                1.000000                1.000000   \n",
       "\n",
       "       dst_host_same_src_port_rate  dst_host_srv_diff_host_rate  \\\n",
       "count                 25192.000000                 25192.000000   \n",
       "mean                      0.147453                     0.031844   \n",
       "std                       0.308367                     0.110575   \n",
       "min                       0.000000                     0.000000   \n",
       "25%                       0.000000                     0.000000   \n",
       "50%                       0.000000                     0.000000   \n",
       "75%                       0.060000                     0.020000   \n",
       "max                       1.000000                     1.000000   \n",
       "\n",
       "       dst_host_serror_rate  dst_host_srv_serror_rate  dst_host_rerror_rate  \\\n",
       "count          25192.000000              25192.000000          25192.000000   \n",
       "mean               0.285800                  0.279846              0.117800   \n",
       "std                0.445316                  0.446075              0.305869   \n",
       "min                0.000000                  0.000000              0.000000   \n",
       "25%                0.000000                  0.000000              0.000000   \n",
       "50%                0.000000                  0.000000              0.000000   \n",
       "75%                1.000000                  1.000000              0.000000   \n",
       "max                1.000000                  1.000000              1.000000   \n",
       "\n",
       "       dst_host_srv_rerror_rate  \n",
       "count              25192.000000  \n",
       "mean                   0.118769  \n",
       "std                    0.317333  \n",
       "min                    0.000000  \n",
       "25%                    0.000000  \n",
       "50%                    0.000000  \n",
       "75%                    0.000000  \n",
       "max                    1.000000  "
      ]
     },
     "execution_count": 5,
     "metadata": {},
     "output_type": "execute_result"
    }
   ],
   "source": [
    "train.describe()"
   ]
  },
  {
   "cell_type": "code",
   "execution_count": 6,
   "id": "3016b7c5",
   "metadata": {
    "execution": {
     "iopub.execute_input": "2021-07-10T12:28:10.262168Z",
     "iopub.status.busy": "2021-07-10T12:28:10.261510Z",
     "iopub.status.idle": "2021-07-10T12:28:10.270162Z",
     "shell.execute_reply": "2021-07-10T12:28:10.270889Z",
     "shell.execute_reply.started": "2021-07-10T09:19:35.694085Z"
    },
    "papermill": {
     "duration": 0.041585,
     "end_time": "2021-07-10T12:28:10.271110",
     "exception": false,
     "start_time": "2021-07-10T12:28:10.229525",
     "status": "completed"
    },
    "tags": []
   },
   "outputs": [
    {
     "name": "stdout",
     "output_type": "stream",
     "text": [
      "0    25192\n",
      "Name: num_outbound_cmds, dtype: int64\n",
      "0    22544\n",
      "Name: num_outbound_cmds, dtype: int64\n"
     ]
    }
   ],
   "source": [
    "print(train['num_outbound_cmds'].value_counts())\n",
    "print(test['num_outbound_cmds'].value_counts())"
   ]
  },
  {
   "cell_type": "code",
   "execution_count": 7,
   "id": "27abbafa",
   "metadata": {
    "execution": {
     "iopub.execute_input": "2021-07-10T12:28:10.329965Z",
     "iopub.status.busy": "2021-07-10T12:28:10.328863Z",
     "iopub.status.idle": "2021-07-10T12:28:10.344319Z",
     "shell.execute_reply": "2021-07-10T12:28:10.344820Z",
     "shell.execute_reply.started": "2021-07-10T09:19:35.703373Z"
    },
    "papermill": {
     "duration": 0.047102,
     "end_time": "2021-07-10T12:28:10.345013",
     "exception": false,
     "start_time": "2021-07-10T12:28:10.297911",
     "status": "completed"
    },
    "tags": []
   },
   "outputs": [],
   "source": [
    "train.drop(['num_outbound_cmds'], axis=1, inplace=True)\n",
    "test.drop(['num_outbound_cmds'], axis=1, inplace=True)"
   ]
  },
  {
   "cell_type": "code",
   "execution_count": 8,
   "id": "d2b7d970",
   "metadata": {
    "execution": {
     "iopub.execute_input": "2021-07-10T12:28:10.400156Z",
     "iopub.status.busy": "2021-07-10T12:28:10.399126Z",
     "iopub.status.idle": "2021-07-10T12:28:10.413796Z",
     "shell.execute_reply": "2021-07-10T12:28:10.414388Z",
     "shell.execute_reply.started": "2021-07-10T09:19:35.725398Z"
    },
    "papermill": {
     "duration": 0.043853,
     "end_time": "2021-07-10T12:28:10.414597",
     "exception": false,
     "start_time": "2021-07-10T12:28:10.370744",
     "status": "completed"
    },
    "tags": []
   },
   "outputs": [
    {
     "data": {
      "text/plain": [
       "normal     13449\n",
       "anomaly    11743\n",
       "Name: class, dtype: int64"
      ]
     },
     "execution_count": 8,
     "metadata": {},
     "output_type": "execute_result"
    }
   ],
   "source": [
    "train['class'].value_counts()"
   ]
  },
  {
   "cell_type": "markdown",
   "id": "d7fa9cf1",
   "metadata": {
    "papermill": {
     "duration": 0.027568,
     "end_time": "2021-07-10T12:28:10.471655",
     "exception": false,
     "start_time": "2021-07-10T12:28:10.444087",
     "status": "completed"
    },
    "tags": []
   },
   "source": [
    "# **Scaling Numerical Attributes**"
   ]
  },
  {
   "cell_type": "code",
   "execution_count": 9,
   "id": "0a6c50b0",
   "metadata": {
    "execution": {
     "iopub.execute_input": "2021-07-10T12:28:10.529895Z",
     "iopub.status.busy": "2021-07-10T12:28:10.529051Z",
     "iopub.status.idle": "2021-07-10T12:28:10.604729Z",
     "shell.execute_reply": "2021-07-10T12:28:10.604156Z",
     "shell.execute_reply.started": "2021-07-10T09:19:35.736288Z"
    },
    "papermill": {
     "duration": 0.105667,
     "end_time": "2021-07-10T12:28:10.604871",
     "exception": false,
     "start_time": "2021-07-10T12:28:10.499204",
     "status": "completed"
    },
    "tags": []
   },
   "outputs": [],
   "source": [
    "from sklearn.preprocessing import StandardScaler\n",
    "scaler = StandardScaler()\n",
    "\n",
    "cols = train.select_dtypes(include=['float64','int64']).columns\n",
    "sc_train = scaler.fit_transform(train.select_dtypes(include=['float64','int64']))\n",
    "sc_test = scaler.fit_transform(test.select_dtypes(include=['float64','int64']))\n",
    "\n",
    "sc_traindf = pd.DataFrame(sc_train, columns = cols)\n",
    "sc_testdf = pd.DataFrame(sc_test, columns = cols)"
   ]
  },
  {
   "cell_type": "markdown",
   "id": "72c2966a",
   "metadata": {
    "papermill": {
     "duration": 0.025558,
     "end_time": "2021-07-10T12:28:10.656357",
     "exception": false,
     "start_time": "2021-07-10T12:28:10.630799",
     "status": "completed"
    },
    "tags": []
   },
   "source": [
    "# **Encoding Categorical Attributes**"
   ]
  },
  {
   "cell_type": "code",
   "execution_count": 10,
   "id": "5507740a",
   "metadata": {
    "execution": {
     "iopub.execute_input": "2021-07-10T12:28:10.720402Z",
     "iopub.status.busy": "2021-07-10T12:28:10.717121Z",
     "iopub.status.idle": "2021-07-10T12:28:10.787272Z",
     "shell.execute_reply": "2021-07-10T12:28:10.786647Z",
     "shell.execute_reply.started": "2021-07-10T09:19:35.789227Z"
    },
    "papermill": {
     "duration": 0.105252,
     "end_time": "2021-07-10T12:28:10.787422",
     "exception": false,
     "start_time": "2021-07-10T12:28:10.682170",
     "status": "completed"
    },
    "tags": []
   },
   "outputs": [],
   "source": [
    "from sklearn.preprocessing import LabelEncoder\n",
    "encoder = LabelEncoder()\n",
    "\n",
    "cattrain = train.select_dtypes(include=['object']).copy()\n",
    "cattest = test.select_dtypes(include=['object']).copy()\n",
    "\n",
    "traincat = cattrain.apply(encoder.fit_transform)\n",
    "testcat = cattest.apply(encoder.fit_transform)\n",
    "\n",
    "enctrain = traincat.drop(['class'], axis=1)\n",
    "cat_Ytrain = traincat[['class']].copy()"
   ]
  },
  {
   "cell_type": "code",
   "execution_count": 11,
   "id": "aa50a2fd",
   "metadata": {
    "execution": {
     "iopub.execute_input": "2021-07-10T12:28:10.846187Z",
     "iopub.status.busy": "2021-07-10T12:28:10.845496Z",
     "iopub.status.idle": "2021-07-10T12:28:10.853866Z",
     "shell.execute_reply": "2021-07-10T12:28:10.852853Z",
     "shell.execute_reply.started": "2021-07-10T09:19:35.831147Z"
    },
    "papermill": {
     "duration": 0.040251,
     "end_time": "2021-07-10T12:28:10.854033",
     "exception": false,
     "start_time": "2021-07-10T12:28:10.813782",
     "status": "completed"
    },
    "tags": []
   },
   "outputs": [
    {
     "data": {
      "text/plain": [
       "(25192, 40)"
      ]
     },
     "execution_count": 11,
     "metadata": {},
     "output_type": "execute_result"
    }
   ],
   "source": [
    "train_x = pd.concat([sc_traindf,enctrain],axis=1)\n",
    "train_y = train['class']\n",
    "train_x.shape"
   ]
  },
  {
   "cell_type": "code",
   "execution_count": 12,
   "id": "1320241a",
   "metadata": {
    "execution": {
     "iopub.execute_input": "2021-07-10T12:28:10.913075Z",
     "iopub.status.busy": "2021-07-10T12:28:10.912362Z",
     "iopub.status.idle": "2021-07-10T12:28:10.921273Z",
     "shell.execute_reply": "2021-07-10T12:28:10.921948Z",
     "shell.execute_reply.started": "2021-07-10T09:19:35.839306Z"
    },
    "papermill": {
     "duration": 0.041024,
     "end_time": "2021-07-10T12:28:10.922115",
     "exception": false,
     "start_time": "2021-07-10T12:28:10.881091",
     "status": "completed"
    },
    "tags": []
   },
   "outputs": [
    {
     "data": {
      "text/plain": [
       "(22544, 40)"
      ]
     },
     "execution_count": 12,
     "metadata": {},
     "output_type": "execute_result"
    }
   ],
   "source": [
    "test_df = pd.concat([sc_testdf,testcat],axis=1)\n",
    "test_df.shape"
   ]
  },
  {
   "cell_type": "markdown",
   "id": "a16bd7ed",
   "metadata": {
    "papermill": {
     "duration": 0.027725,
     "end_time": "2021-07-10T12:28:10.977605",
     "exception": false,
     "start_time": "2021-07-10T12:28:10.949880",
     "status": "completed"
    },
    "tags": []
   },
   "source": [
    "# **Feature Selection**"
   ]
  },
  {
   "cell_type": "code",
   "execution_count": 13,
   "id": "889decee",
   "metadata": {
    "execution": {
     "iopub.execute_input": "2021-07-10T12:28:11.035941Z",
     "iopub.status.busy": "2021-07-10T12:28:11.035068Z",
     "iopub.status.idle": "2021-07-10T12:28:13.838686Z",
     "shell.execute_reply": "2021-07-10T12:28:13.839190Z",
     "shell.execute_reply.started": "2021-07-10T09:19:35.854319Z"
    },
    "papermill": {
     "duration": 2.83408,
     "end_time": "2021-07-10T12:28:13.839361",
     "exception": false,
     "start_time": "2021-07-10T12:28:11.005281",
     "status": "completed"
    },
    "tags": []
   },
   "outputs": [
    {
     "data": {
      "image/png": "[encoded data removed]",
      "text/plain": [
       "<Figure size 792x288 with 1 Axes>"
      ]
     },
     "metadata": {},
     "output_type": "display_data"
    }
   ],
   "source": [
    "from sklearn.ensemble import RandomForestClassifier\n",
    "rfc = RandomForestClassifier();\n",
    "\n",
    "rfc.fit(train_x, train_y);\n",
    "\n",
    "score = np.round(rfc.feature_importances_,3)\n",
    "importances = pd.DataFrame({'feature':train_x.columns,'importance':score})\n",
    "importances = importances.sort_values('importance',ascending=False).set_index('feature')\n",
    "\n",
    "plt.rcParams['figure.figsize'] = (11, 4)\n",
    "importances.plot.bar();"
   ]
  },
  {
   "cell_type": "code",
   "execution_count": null,
   "id": "52b529a8",
   "metadata": {
    "execution": {
     "iopub.execute_input": "2021-07-10T09:19:38.520417Z",
     "iopub.status.busy": "2021-07-10T09:19:38.520207Z",
     "iopub.status.idle": "2021-07-10T09:20:35.524968Z",
     "shell.execute_reply": "2021-07-10T09:20:35.524020Z",
     "shell.execute_reply.started": "2021-07-10T09:19:38.520396Z"
    },
    "papermill": {
     "duration": null,
     "end_time": null,
     "exception": false,
     "start_time": "2021-07-10T12:28:13.868252",
     "status": "running"
    },
    "tags": []
   },
   "outputs": [],
   "source": [
    "from sklearn.feature_selection import RFE\n",
    "import itertools\n",
    "rfc = RandomForestClassifier()\n",
    "\n",
    "rfe = RFE(rfc, n_features_to_select=15)\n",
    "rfe = rfe.fit(train_x, train_y)\n",
    "\n",
    "feature_map = [(i, v) for i, v in itertools.zip_longest(rfe.get_support(), train_x.columns)]\n",
    "selected_features = [v for i, v in feature_map if i==True]\n",
    "\n",
    "selected_features"
   ]
  },
  {
   "cell_type": "markdown",
   "id": "1d51cb99",
   "metadata": {
    "papermill": {
     "duration": null,
     "end_time": null,
     "exception": null,
     "start_time": null,
     "status": "pending"
    },
    "tags": []
   },
   "source": [
    "**Dataset Partition**"
   ]
  },
  {
   "cell_type": "code",
   "execution_count": null,
   "id": "3e389553",
   "metadata": {
    "execution": {
     "iopub.execute_input": "2021-07-10T09:20:35.526287Z",
     "iopub.status.busy": "2021-07-10T09:20:35.526008Z",
     "iopub.status.idle": "2021-07-10T09:20:35.541243Z",
     "shell.execute_reply": "2021-07-10T09:20:35.540472Z",
     "shell.execute_reply.started": "2021-07-10T09:20:35.526260Z"
    },
    "papermill": {
     "duration": null,
     "end_time": null,
     "exception": null,
     "start_time": null,
     "status": "pending"
    },
    "tags": []
   },
   "outputs": [],
   "source": [
    "from sklearn.model_selection import train_test_split\n",
    "\n",
    "X_train,X_test,Y_train,Y_test = train_test_split(train_x,train_y,train_size=0.70, random_state=2)"
   ]
  },
  {
   "cell_type": "markdown",
   "id": "213713b5",
   "metadata": {
    "papermill": {
     "duration": null,
     "end_time": null,
     "exception": null,
     "start_time": null,
     "status": "pending"
    },
    "tags": []
   },
   "source": [
    "# **Model**"
   ]
  },
  {
   "cell_type": "code",
   "execution_count": null,
   "id": "7996524a",
   "metadata": {
    "execution": {
     "iopub.execute_input": "2021-07-10T09:20:35.543333Z",
     "iopub.status.busy": "2021-07-10T09:20:35.542808Z",
     "iopub.status.idle": "2021-07-10T09:20:36.089647Z",
     "shell.execute_reply": "2021-07-10T09:20:36.088812Z",
     "shell.execute_reply.started": "2021-07-10T09:20:35.543293Z"
    },
    "papermill": {
     "duration": null,
     "end_time": null,
     "exception": null,
     "start_time": null,
     "status": "pending"
    },
    "tags": []
   },
   "outputs": [],
   "source": [
    "from sklearn.neighbors import KNeighborsClassifier\n",
    "from sklearn.model_selection import cross_val_score\n",
    "\n",
    "KNN_Classifier = KNeighborsClassifier(n_jobs=-1)\n",
    "KNN_Classifier.fit(X_train, Y_train);"
   ]
  },
  {
   "cell_type": "markdown",
   "id": "71cfb75c",
   "metadata": {
    "papermill": {
     "duration": null,
     "end_time": null,
     "exception": null,
     "start_time": null,
     "status": "pending"
    },
    "tags": []
   },
   "source": [
    "# **Evaluating Model**"
   ]
  },
  {
   "cell_type": "code",
   "execution_count": null,
   "id": "c4892109",
   "metadata": {
    "execution": {
     "iopub.execute_input": "2021-07-10T09:20:36.091481Z",
     "iopub.status.busy": "2021-07-10T09:20:36.091153Z",
     "iopub.status.idle": "2021-07-10T09:20:59.527633Z",
     "shell.execute_reply": "2021-07-10T09:20:59.526576Z",
     "shell.execute_reply.started": "2021-07-10T09:20:36.091444Z"
    },
    "papermill": {
     "duration": null,
     "end_time": null,
     "exception": null,
     "start_time": null,
     "status": "pending"
    },
    "tags": []
   },
   "outputs": [],
   "source": [
    "from sklearn import metrics\n",
    "\n",
    "scores = cross_val_score(KNN_Classifier, X_train, Y_train, cv=10)\n",
    "accuracy = metrics.accuracy_score(Y_train, KNN_Classifier.predict(X_train))\n",
    "confusion_matrix = metrics.confusion_matrix(Y_train, KNN_Classifier.predict(X_train))\n",
    "classification = metrics.classification_report(Y_train, KNN_Classifier.predict(X_train))\n",
    "print()\n",
    "print('KNN_Classifier Model Evaluation')\n",
    "print()\n",
    "print (\"Cross Validation Mean Score:\" \"\\n\", scores.mean())\n",
    "print()\n",
    "print (\"Model Accuracy:\" \"\\n\", accuracy)\n",
    "print()\n",
    "print(\"Confusion matrix:\" \"\\n\", confusion_matrix)\n",
    "print()\n",
    "print(\"Classification report:\" \"\\n\", classification) \n",
    "print()"
   ]
  },
  {
   "cell_type": "markdown",
   "id": "a56dd7de",
   "metadata": {
    "papermill": {
     "duration": null,
     "end_time": null,
     "exception": null,
     "start_time": null,
     "status": "pending"
    },
    "tags": []
   },
   "source": [
    "# **Validating Model**"
   ]
  },
  {
   "cell_type": "code",
   "execution_count": null,
   "id": "cefbd86b",
   "metadata": {
    "execution": {
     "iopub.execute_input": "2021-07-10T09:20:59.529047Z",
     "iopub.status.busy": "2021-07-10T09:20:59.528776Z",
     "iopub.status.idle": "2021-07-10T09:21:05.791871Z",
     "shell.execute_reply": "2021-07-10T09:21:05.790826Z",
     "shell.execute_reply.started": "2021-07-10T09:20:59.529003Z"
    },
    "papermill": {
     "duration": null,
     "end_time": null,
     "exception": null,
     "start_time": null,
     "status": "pending"
    },
    "tags": []
   },
   "outputs": [],
   "source": [
    "accuracy = metrics.accuracy_score(Y_test, KNN_Classifier.predict(X_test))\n",
    "confusion_matrix = metrics.confusion_matrix(Y_test, KNN_Classifier.predict(X_test))\n",
    "classification = metrics.classification_report(Y_test, KNN_Classifier.predict(X_test))\n",
    "print()\n",
    "print('KNN_Classifier Model Validation'.format(\"KNN_Classifier\"))\n",
    "print()\n",
    "print (\"Model Accuracy:\" \"\\n\", accuracy)\n",
    "print()\n",
    "print(\"Confusion matrix:\" \"\\n\", confusion_matrix)\n",
    "print()\n",
    "print(\"Classification report:\" \"\\n\", classification) \n",
    "print()        \n"
   ]
  },
  {
   "cell_type": "markdown",
   "id": "0800bc9f",
   "metadata": {
    "papermill": {
     "duration": null,
     "end_time": null,
     "exception": null,
     "start_time": null,
     "status": "pending"
    },
    "tags": []
   },
   "source": [
    "# **Predicting Test Data**"
   ]
  },
  {
   "cell_type": "code",
   "execution_count": null,
   "id": "7dcc006a",
   "metadata": {
    "execution": {
     "iopub.execute_input": "2021-07-10T09:21:05.793309Z",
     "iopub.status.busy": "2021-07-10T09:21:05.793019Z",
     "iopub.status.idle": "2021-07-10T09:21:12.243725Z",
     "shell.execute_reply": "2021-07-10T09:21:12.242565Z",
     "shell.execute_reply.started": "2021-07-10T09:21:05.793281Z"
    },
    "papermill": {
     "duration": null,
     "end_time": null,
     "exception": null,
     "start_time": null,
     "status": "pending"
    },
    "tags": []
   },
   "outputs": [],
   "source": [
    "pred_knn = KNN_Classifier.predict(test_df)\n",
    "print(test_df.head())\n",
    "print(KNN_Classifier.predict(test_df.head()))"
   ]
  },
  {
   "cell_type": "markdown",
   "id": "22043284",
   "metadata": {
    "papermill": {
     "duration": null,
     "end_time": null,
     "exception": null,
     "start_time": null,
     "status": "pending"
    },
    "tags": []
   },
   "source": [
    "# **Extracting TP FP TN FN**"
   ]
  },
  {
   "cell_type": "code",
   "execution_count": null,
   "id": "68bfa3fe",
   "metadata": {
    "execution": {
     "iopub.execute_input": "2021-07-10T09:21:12.245211Z",
     "iopub.status.busy": "2021-07-10T09:21:12.244902Z",
     "iopub.status.idle": "2021-07-10T09:21:14.228467Z",
     "shell.execute_reply": "2021-07-10T09:21:14.227257Z",
     "shell.execute_reply.started": "2021-07-10T09:21:12.245184Z"
    },
    "papermill": {
     "duration": null,
     "end_time": null,
     "exception": null,
     "start_time": null,
     "status": "pending"
    },
    "tags": []
   },
   "outputs": [],
   "source": [
    "def perf_measure(y_actual, y_pred):\n",
    "    TP = 0\n",
    "    FP = 0\n",
    "    TN = 0\n",
    "    FN = 0\n",
    "\n",
    "    for i in range(len(y_pred)): \n",
    "        if y_actual.iat[i]==y_pred[i]=='anomaly':\n",
    "           TP += 1\n",
    "        if y_pred[i]=='anomaly' and y_actual.iat[i]!=y_pred[i]:\n",
    "           FP += 1\n",
    "        if y_actual.iat[i]==y_pred[i]=='normal':\n",
    "           TN += 1\n",
    "        if y_pred[i]=='normal' and y_actual.iat[i]!=y_pred[i]:\n",
    "           FN += 1\n",
    "        \n",
    "    return (TP, FP, TN, FN)\n",
    "print(\"For KNN_Classifier:\")\n",
    "TP, FP, TN, FN = perf_measure(Y_test, KNN_Classifier.predict(X_test))\n",
    "print (\"TP:\", TP, \"\\tFP:\", FP, \"\\t\\tTN:\", TN, \"\\tFN:\", FN)\n",
    "print()"
   ]
  }
 ],
 "metadata": {
  "kernelspec": {
   "display_name": "Python 3",
   "language": "python",
   "name": "python3"
  },
  "language_info": {
   "codemirror_mode": {
    "name": "ipython",
    "version": 3
   },
   "file_extension": ".py",
   "mimetype": "text/x-python",
   "name": "python",
   "nbconvert_exporter": "python",
   "pygments_lexer": "ipython3",
   "version": "3.6.4"
  },
  "papermill": {
   "default_parameters": {},
   "duration": null,
   "end_time": null,
   "environment_variables": {},
   "exception": null,
   "input_path": "__notebook__.ipynb",
   "output_path": "__notebook__.ipynb",
   "parameters": {},
   "start_time": "2021-07-10T12:27:59.324544",
   "version": "2.3.3"
  }
 },
 "nbformat": 4,
 "nbformat_minor": 5
}